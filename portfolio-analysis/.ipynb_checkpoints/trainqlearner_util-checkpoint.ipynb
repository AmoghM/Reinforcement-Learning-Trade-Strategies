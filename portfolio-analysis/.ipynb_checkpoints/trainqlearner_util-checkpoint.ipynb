{
 "cells": [
  {
   "cell_type": "code",
   "execution_count": 1,
   "metadata": {
    "collapsed": true
   },
   "outputs": [],
   "source": [
    "import time\n",
    "import datetime\n",
    "import numpy as np\n",
    "import pandas  as pd\n",
    "import matplotlib.pyplot as plt\n",
    "import data_process as d\n",
    "import pandas_datareader.data as web # fetch stock data\n",
    "import seaborn as sns\n",
    "\n",
    "%matplotlib inline"
   ]
  },
  {
   "cell_type": "markdown",
   "metadata": {},
   "source": [
    "### Q table initialization"
   ]
  },
  {
   "cell_type": "code",
   "execution_count": 6,
   "metadata": {
    "collapsed": true
   },
   "outputs": [],
   "source": [
    "def initialize_q_mat(all_states, all_actions):\n",
    "    '''\n",
    "    Initialize Q-table\n",
    "    Inputs:\n",
    "    all_states: a list of all the states values\n",
    "    all_actions: a dictionary of all possible actions to take\n",
    "    Output: \n",
    "    q_mat: randomly initialized Q-table\n",
    "    '''\n",
    "    states_size = len(all_states)\n",
    "    actions_size = len(all_actions)\n",
    "    \n",
    "    q_mat = np.random.rand(states_size, actions_size)/1e9\n",
    "    q_mat = pd.DataFrame(q_mat, columns=all_actions.keys())\n",
    "    \n",
    "    q_mat['states'] = all_states\n",
    "    q_mat.set_index('states', inplace=True)\n",
    "    \n",
    "    return q_mat"
   ]
  },
  {
   "cell_type": "markdown",
   "metadata": {},
   "source": [
    "### Generate action signal (0:sit, 1:buy, 2:sell) based on the action policy"
   ]
  },
  {
   "cell_type": "code",
   "execution_count": 31,
   "metadata": {
    "collapsed": true
   },
   "outputs": [],
   "source": [
    "def act(state, q_mat, threshold=0.2, actions_size=3):\n",
    "    '''\n",
    "    Taking an action based on different strategies: \n",
    "    either random pick actions or take the actions \n",
    "    with the highest future return\n",
    "    Inputs:\n",
    "    state(str)\n",
    "    q_mat(dataframe): Q-table\n",
    "    threshold(float): the percentage of picking a random action\n",
    "    action_size(int): number of possible actions \n",
    "    Output:\n",
    "    action(int)\n",
    "    '''\n",
    "    if np.random.uniform(0,1) < threshold: # go random\n",
    "        action = np.random.randint(low=0, high=actions_size)  \n",
    "    else:\n",
    "        action = np.argmax(q_mat.loc[state].values)\n",
    "    return action"
   ]
  },
  {
   "cell_type": "markdown",
   "metadata": {},
   "source": [
    "### Additional utility functions"
   ]
  },
  {
   "cell_type": "code",
   "execution_count": 34,
   "metadata": {
    "collapsed": true
   },
   "outputs": [],
   "source": [
    "def get_return_since_entry(bought_history, current_adj_close):\n",
    "    '''\n",
    "    Calculate the returns of current share holdings.\n",
    "    Inputs:\n",
    "    bought_history(list) \n",
    "    current_adj_close(float)\n",
    "    current_day(int)\n",
    "    Output:\n",
    "    return_since_entry(float)\n",
    "    '''\n",
    "    return_since_entry = 0.\n",
    "    \n",
    "    for b in bought_history:\n",
    "        return_since_entry += (current_adj_close - b)\n",
    "    return return_since_entry"
   ]
  },
  {
   "cell_type": "code",
   "execution_count": 36,
   "metadata": {
    "collapsed": true
   },
   "outputs": [],
   "source": [
    "def visualize_results(actions_history, returns_since_entry):\n",
    "    '''\n",
    "    Visualize the trading results with 2 plots\n",
    "    The upper plot shows the return since entry\n",
    "    The lower plot shows the action signal\n",
    "    Inputs:\n",
    "    actions_history(dict): has everydays' actions and close price\n",
    "    returns_since_entry(list): contains every day's return since entry\n",
    "    Output:\n",
    "    None\n",
    "    '''\n",
    "    f, (ax1, ax2) = plt.subplots(2, 1, figsize=(15,12))\n",
    "    \n",
    "    ax1.plot(returns_since_entry)\n",
    "    \n",
    "    days, prices, actions = [], [], []\n",
    "    for d, p, a in actions_history:\n",
    "        days.append(d)\n",
    "        prices.append(p)\n",
    "        actions.append(a)\n",
    "\n",
    "    #ax2.figure(figsize=(20,10))\n",
    "    ax2.plot(days, prices, label='normalized adj close price')\n",
    "    hold_d, hold_p, buy_d, buy_p, sell_d, sell_p = [], [], [], [], [], []\n",
    "    for d, p, a in actions_history:\n",
    "        if a == 0:\n",
    "            hold_d.append(d)\n",
    "            hold_p.append(p)\n",
    "        if a == 1:\n",
    "            buy_d.append(d)\n",
    "            buy_p.append(p)\n",
    "        if a == 2:\n",
    "            sell_d.append(d)\n",
    "            sell_p.append(p)\n",
    "        # ax2.annotate(all_actions[a], xy=(d,p), xytext=(d-.2, p+0.001), color=color, arrowprops=dict(arrowstyle='->',connectionstyle='arc3'))\n",
    "    ax2.scatter(hold_d, hold_p, color='blue', label='hold')\n",
    "    ax2.scatter(buy_d, buy_p, color='green', label='buy')\n",
    "    ax2.scatter(sell_d, sell_p, color='red', label='sell')\n",
    "    ax2.legend()"
   ]
  },
  {
   "cell_type": "code",
   "execution_count": 37,
   "metadata": {
    "collapsed": true
   },
   "outputs": [],
   "source": [
    "def get_invested_capital(actions_history, returns_since_entry):\n",
    "    '''\n",
    "    Calculate the max capital being continously invested by the trader\n",
    "    Input:\n",
    "    actions_history(dict): has everydays' actions and close price\n",
    "    returns_since_entry(list): contains every day's return since entry\n",
    "    Output:\n",
    "    return_invest_ratio(float)\n",
    "    '''\n",
    "    invest = []\n",
    "    total = 0\n",
    "    return_invest_ratio = None\n",
    "    for i in range(len(actions_history)):\n",
    "        a = actions_history[i][2]\n",
    "        p = actions_history[i][1]\n",
    "\n",
    "        try:\n",
    "            next_a = actions_history[i+1][2]\n",
    "        except:\n",
    "            break\n",
    "        if a == 1:\n",
    "            total += p\n",
    "            if next_a != 1 or (i==len(actions_history)-2 and next_a==1):\n",
    "                invest.append(total)\n",
    "                total = 0\n",
    "    if invest:\n",
    "        return_invest_ratio = returns_since_entry[-1]/max(invest)\n",
    "        print('invested capital {}, return/invest ratio {}'.format(max(invest), return_invest_ratio))\n",
    "    else:\n",
    "        print('no buy transactions, invalid training')\n",
    "    return return_invest_ratio"
   ]
  },
  {
   "cell_type": "code",
   "execution_count": 38,
   "metadata": {
    "collapsed": true
   },
   "outputs": [],
   "source": [
    "def get_base_return(data):\n",
    "    '''\n",
    "    Calculate the benchmark returns of a given stock\n",
    "    Input:\n",
    "    data(dataframe): containing normalized close price and state\n",
    "    Output:\n",
    "    return/invest ratio(float)\n",
    "    '''\n",
    "    start_price, _ = data[0]\n",
    "    end_price, _ = data[-1]\n",
    "    return (end_price - start_price)/start_price"
   ]
  },
  {
   "cell_type": "code",
   "execution_count": null,
   "metadata": {
    "collapsed": true
   },
   "outputs": [],
   "source": []
  },
  {
   "cell_type": "code",
   "execution_count": 46,
   "metadata": {
    "collapsed": true
   },
   "outputs": [],
   "source": [
    "def train_q_learning(train_data, q, alpha, gamma, episodes):\n",
    "    '''\n",
    "    Train a Q-table \n",
    "    Inputs:\n",
    "    train_data(dataframe)\n",
    "    q(dataframe): initial Q-table\n",
    "    alpha(float): threshold of which action strategy to take\n",
    "    gamma(float): discount percentage on the future return\n",
    "    Output:\n",
    "    q(dataframe): Updated Q-table\n",
    "    actions_history(dict): has everydays' actions and close price\n",
    "    returns_since_entry(list): contains every day's return since entry\n",
    "    '''\n",
    "    actions_history = []\n",
    "    num_shares = 0\n",
    "    bought_history = []\n",
    "    returns_since_entry = [0]\n",
    "    for ii in range(episodes):\n",
    "        actions_history = []\n",
    "        num_shares = 0\n",
    "        bought_history = []\n",
    "        returns_since_entry = [0]\n",
    "        days=[0]\n",
    "        for i, val in enumerate(train_data):\n",
    "            current_adj_close, state = val\n",
    "            try:\n",
    "                next_adj_close, next_state = train_data[i+1]\n",
    "            except:\n",
    "                break\n",
    "\n",
    "            if len(bought_history) > 0:\n",
    "                returns_since_entry.append(get_return_since_entry(bought_history, current_adj_close)) \n",
    "            else:\n",
    "                returns_since_entry.append(returns_since_entry[-1])\n",
    "\n",
    "            # decide action\n",
    "            if alpha > 0.1:\n",
    "                alpha = alpha/(i+1)\n",
    "            action = act(state, q, threshold=alpha, actions_size=3)\n",
    "\n",
    "            # get reward\n",
    "            if action == 0: # hold\n",
    "                if num_shares > 0:\n",
    "                    prev_adj_close, _ = train_data[i-1]\n",
    "                    future = next_adj_close - current_adj_close \n",
    "                    past = current_adj_close - prev_adj_close\n",
    "                    reward = past\n",
    "                else:\n",
    "                    reward = 0\n",
    "\n",
    "            if action == 1: # buy\n",
    "                reward = 0\n",
    "                num_shares += 1\n",
    "                bought_history.append((current_adj_close))\n",
    "\n",
    "            if action == 2: # sell\n",
    "                if num_shares > 0:\n",
    "                    bought_price = bought_history[0]\n",
    "                    reward = (current_adj_close - bought_price)\n",
    "                    bought_history.pop(0)\n",
    "                    num_shares -= 1\n",
    "\n",
    "                else:\n",
    "                    reward = -100\n",
    "            actions_history.append((i, current_adj_close, action))\n",
    "            \n",
    "            # update q table\n",
    "            q.loc[state, action] = (1.-alpha)*q.loc[state, action] + alpha*(reward+gamma*(q.loc[next_state].max()))\n",
    "    print('End of Training!')\n",
    "    return q, actions_history, returns_since_entry"
   ]
  },
  {
   "cell_type": "markdown",
   "metadata": {},
   "source": [
    "### Output"
   ]
  },
  {
   "cell_type": "markdown",
   "metadata": {},
   "source": [
    "##### Raw input from Yahoo Finance"
   ]
  },
  {
   "cell_type": "markdown",
   "metadata": {},
   "source": [
    "Date Range"
   ]
  },
  {
   "cell_type": "code",
   "execution_count": 12,
   "metadata": {
    "collapsed": true
   },
   "outputs": [],
   "source": [
    "start = datetime.datetime(2014, 1, 1)\n",
    "end = datetime.datetime(2018, 1, 1)"
   ]
  },
  {
   "cell_type": "markdown",
   "metadata": {},
   "source": [
    "Split the data into train and test data set"
   ]
  },
  {
   "cell_type": "code",
   "execution_count": 13,
   "metadata": {},
   "outputs": [],
   "source": [
    "train_df, test_df = d.get_stock_data('AAPL', start, end, 0.8)"
   ]
  },
  {
   "cell_type": "markdown",
   "metadata": {},
   "source": [
    "Action Definition (= Q table columns)"
   ]
  },
  {
   "cell_type": "code",
   "execution_count": 16,
   "metadata": {
    "collapsed": true
   },
   "outputs": [],
   "source": [
    "all_actions = {0:'hold', 1:'buy', 2:'sell'}"
   ]
  },
  {
   "cell_type": "markdown",
   "metadata": {},
   "source": [
    "##### Further formatting of the raw stock data"
   ]
  },
  {
   "cell_type": "markdown",
   "metadata": {},
   "source": [
    "Train data"
   ]
  },
  {
   "cell_type": "code",
   "execution_count": 17,
   "metadata": {
    "collapsed": true
   },
   "outputs": [],
   "source": [
    "# create_df = normalized predictors norm_bb_width, norm_adj_close, norm_close_sma_ratio\n",
    "train_df = d.create_df(train_df, 3)"
   ]
  },
  {
   "cell_type": "code",
   "execution_count": 18,
   "metadata": {
    "collapsed": true
   },
   "outputs": [],
   "source": [
    "# get_states = States Dictionary after discretizing by converting continuous values to integer state\n",
    "price_states_value, bb_states_value, close_sma_ratio_states_value = d.get_states(train_df)"
   ]
  },
  {
   "cell_type": "code",
   "execution_count": 19,
   "metadata": {
    "collapsed": true
   },
   "outputs": [],
   "source": [
    "# Create_state_df =  Add state information to the DF\n",
    "train_df = d.create_state_df(train_df, price_states_value, bb_states_value, close_sma_ratio_states_value)"
   ]
  },
  {
   "cell_type": "code",
   "execution_count": 20,
   "metadata": {
    "collapsed": true
   },
   "outputs": [],
   "source": [
    "# Return a list of strings representing the combination of all the states\n",
    "all_states = d.get_all_states(price_states_value, bb_states_value, close_sma_ratio_states_value)\n",
    "states_size = len(all_states)"
   ]
  },
  {
   "cell_type": "markdown",
   "metadata": {},
   "source": [
    "Test data"
   ]
  },
  {
   "cell_type": "code",
   "execution_count": 21,
   "metadata": {
    "collapsed": true
   },
   "outputs": [],
   "source": [
    "test_df = d.create_df(test_df, 3)\n",
    "test_df = d.create_state_df(test_df, price_states_value, bb_states_value, close_sma_ratio_states_value)"
   ]
  },
  {
   "cell_type": "markdown",
   "metadata": {},
   "source": [
    "##### (Optional) Visualizing the processed raw input data"
   ]
  },
  {
   "cell_type": "code",
   "execution_count": 22,
   "metadata": {},
   "outputs": [
    {
     "data": {
      "image/png": "[encoded data removed]",
      "text/plain": [
       "<Figure size 432x288 with 1 Axes>"
      ]
     },
     "metadata": {
      "needs_background": "light"
     },
     "output_type": "display_data"
    }
   ],
   "source": [
    "plt.hist(train_df['norm_bb_width'], bins=50);\n",
    "plt.title('Distribution of Normalized Bollinger Band Width');\n",
    "plt.ylabel('Count');\n",
    "plt.xlabel('Normalized Bollinger Band Width');"
   ]
  },
  {
   "cell_type": "markdown",
   "metadata": {},
   "source": [
    "#### Preparation of the Q Table"
   ]
  },
  {
   "cell_type": "code",
   "execution_count": 43,
   "metadata": {},
   "outputs": [],
   "source": [
    "q_init = initialize_q_mat(all_states, all_actions)/1e9"
   ]
  },
  {
   "cell_type": "code",
   "execution_count": 44,
   "metadata": {
    "collapsed": true
   },
   "outputs": [],
   "source": [
    "train_data = np.array(train_df[['norm_adj_close', 'state']])"
   ]
  },
  {
   "cell_type": "code",
   "execution_count": 47,
   "metadata": {},
   "outputs": [
    {
     "name": "stdout",
     "output_type": "stream",
     "text": [
      "End of Training!\n"
     ]
    }
   ],
   "source": [
    "q, train_actions_history, train_returns_since_entry = train_q_learning(train_data, q_init, alpha=0.8, gamma=0.95, episodes=1)\n"
   ]
  },
  {
   "cell_type": "code",
   "execution_count": 52,
   "metadata": {
    "collapsed": true
   },
   "outputs": [],
   "source": [
    "# start_date = datetime.datetime(2014, 1, 1)\n",
    "# end_date = datetime.datetime(2018, 1, 1)\n",
    "# ticker = 'AAPL'\n",
    "\n",
    "def trainqlearner(start_date, end_date, ticker):\n",
    "    \n",
    "    # Split the data into train and test data set\n",
    "    train_df, test_df = d.get_stock_data(ticker, start_date, end_date, 0.8)\n",
    "    \n",
    "    # Action Definition (= Q table columns)\n",
    "    all_actions = {0:'hold', 1:'buy', 2:'sell'}\n",
    "    \n",
    "    # create_df = normalized predictors norm_bb_width, norm_adj_close, norm_close_sma_ratio\n",
    "    train_df = d.create_df(train_df, 3)\n",
    "    \n",
    "    # get_states = States Dictionary after discretizing by converting continuous values to integer state\n",
    "    price_states_value, bb_states_value, close_sma_ratio_states_value = d.get_states(train_df)\n",
    "    \n",
    "    # Create_state_df =  Add state information to the DF\n",
    "    train_df = d.create_state_df(train_df, price_states_value, bb_states_value, close_sma_ratio_states_value)\n",
    "    \n",
    "    # Return a list of strings representing the combination of all the states\n",
    "    all_states = d.get_all_states(price_states_value, bb_states_value, close_sma_ratio_states_value)\n",
    "    states_size = len(all_states)\n",
    "    \n",
    "    # Test Data\n",
    "    test_df = d.create_df(test_df, 3)\n",
    "    test_df = d.create_state_df(test_df, price_states_value, bb_states_value, close_sma_ratio_states_value)\n",
    "    \n",
    "    # Preparation of the Q Table\n",
    "    q_init = initialize_q_mat(all_states, all_actions)/1e9\n",
    "    train_data = np.array(train_df[['norm_adj_close', 'state']])\n",
    "    q, train_actions_history, train_returns_since_entry = train_q_learning(train_data, q_init, alpha=0.8, gamma=0.95, episodes=1)\n",
    "    \n",
    "    # Specify quantiles\n",
    "    BB_quantiles = bb_states_value\n",
    "    SMA_ratio_quantiles = close_sma_ratio_states_value\n",
    "    \n",
    "    return q, bb_states_value, SMA_ratio_quantiles"
   ]
  },
  {
   "cell_type": "code",
   "execution_count": 56,
   "metadata": {},
   "outputs": [
    {
     "name": "stdout",
     "output_type": "stream",
     "text": [
      "End of Training!\n"
     ]
    },
    {
     "data": {
      "text/plain": [
       "(                   0             1             2\n",
       " states                                          \n",
       " 000     7.923054e-20  3.791257e-05 -3.333333e+00\n",
       " 001     6.360420e-19  6.831046e-19  5.184628e-19\n",
       " 002     8.387308e-19  4.722765e-19  3.393158e-19\n",
       " 003     8.671463e-19  4.941789e-19  7.723234e-19\n",
       " 004     2.078500e-19  5.947187e-19  9.134590e-19\n",
       " ...              ...           ...           ...\n",
       " 995     4.285178e-20  5.034515e-19  9.708147e-19\n",
       " 996     2.384491e-19  7.948143e-20  6.936294e-19\n",
       " 997     8.121146e-19  6.435647e-19  7.866062e-19\n",
       " 998     1.434855e-19  6.845854e-21  3.248093e-19\n",
       " 999     1.403554e-21  2.837145e-19  2.813702e-19\n",
       " \n",
       " [1000 rows x 3 columns],\n",
       " {0: 0.21214993537268417,\n",
       "  1: 0.32270573028866867,\n",
       "  2: 0.4141318397242567,\n",
       "  3: 0.5275312365359759,\n",
       "  4: 0.6609220163722532,\n",
       "  5: 0.7977595863851787,\n",
       "  6: 0.9684618698836707,\n",
       "  7: 1.1920723825937096,\n",
       "  8: 1.565273588970272,\n",
       "  9: 4.516587677725118},\n",
       " {0: 0.9912023931418018,\n",
       "  1: 0.9978297094902528,\n",
       "  2: 1.0006645385372122,\n",
       "  3: 1.0030697263546748,\n",
       "  4: 1.0047882912726616,\n",
       "  5: 1.007167379389267,\n",
       "  6: 1.0089983737878696,\n",
       "  7: 1.0121082535284789,\n",
       "  8: 1.016219960248148,\n",
       "  9: 1.0527113573852114})"
      ]
     },
     "execution_count": 56,
     "metadata": {},
     "output_type": "execute_result"
    }
   ],
   "source": [
    "start_date = datetime.datetime(2014, 1, 1)\n",
    "end_date = datetime.datetime(2018, 1, 1)\n",
    "ticker = 'AAPL'\n",
    "\n",
    "q, bb_states_value, SMA_ratio_quantiles = trainqlearner(start_date, end_date, ticker)\n",
    "\n",
    "q, bb_states_value, SMA_ratio_quantiles"
   ]
  },
  {
   "cell_type": "code",
   "execution_count": null,
   "metadata": {
    "collapsed": true
   },
   "outputs": [],
   "source": []
  }
 ],
 "metadata": {
  "kernelspec": {
   "display_name": "nlp_ml",
   "language": "python",
   "name": "nlp_ml"
  },
  "language_info": {
   "codemirror_mode": {
    "name": "ipython",
    "version": 3
   },
   "file_extension": ".py",
   "mimetype": "text/x-python",
   "name": "python",
   "nbconvert_exporter": "python",
   "pygments_lexer": "ipython3",
   "version": "3.7.6"
  }
 },
 "nbformat": 4,
 "nbformat_minor": 2
}
