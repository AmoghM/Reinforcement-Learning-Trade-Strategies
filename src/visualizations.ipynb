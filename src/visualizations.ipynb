{
 "cells": [
  {
   "cell_type": "code",
   "execution_count": null,
   "metadata": {
    "scrolled": false
   },
   "outputs": [
    {
     "name": "stdout",
     "output_type": "stream",
     "text": [
      "--------------------------------\n",
      "Total Profit: $0.00\n",
      "Total Reward:  520.1080322265625\n",
      "Total shares:  700\n",
      "Total cash:  19545.54901123047\n",
      "--------------------------------\n",
      "[*********************100%***********************]  1 of 1 completed\n",
      "Training episode 1\n",
      "Episode 6 showed irregularity. MSE was 4323555.481530044. Showing big 10 biggest jumps in QTable below.\n",
      "                 0           1           2\n",
      "states                                    \n",
      "0149    134.570472  716.007267  -76.114950\n",
      "2209      0.000000    0.000000  476.573498\n",
      "7219      0.000000    0.000000  363.718973\n",
      "3229    305.424050    0.000000    0.000000\n",
      "8319      0.000000    9.803242  286.777346\n",
      "2119     74.651809  216.951594    0.000000\n",
      "8219      0.000000  266.333777    0.000000\n",
      "4229    164.716798   92.821952    0.000000\n",
      "0129    251.550170    0.000000    0.000000\n",
      "5229      0.000000  251.438975    0.000000\n",
      "\n",
      "\n",
      "\n",
      "\n",
      "\n",
      "Training episode 10\n",
      "Episode 14 showed irregularity. MSE was 438279.35021187813. Showing big 10 biggest jumps in QTable below.\n",
      "                 0           1           2\n",
      "states                                    \n",
      "8349     90.171837  307.656787 -220.164602\n",
      "0248     30.177966  120.393005    0.000000\n",
      "1249      9.123434   99.007894   39.543649\n",
      "3247    108.767205    0.000000    0.000000\n",
      "2248     14.902623   84.274158    0.000000\n",
      "7347      0.000000   80.670786    0.000000\n",
      "4348      0.000000   60.644396    0.000000\n",
      "5247      0.000000   59.195565    0.000000\n",
      "8248     14.927706    0.000000   36.388018\n",
      "0147     50.075591    0.000000    0.000000\n",
      "\n",
      "\n",
      "\n",
      "\n",
      "\n",
      "Training episode 20\n",
      "Episode 21 showed irregularity. MSE was 307917.47976574436. Showing big 10 biggest jumps in QTable below.\n",
      "                 0           1          2\n",
      "states                                   \n",
      "0148     93.884321   45.480605   0.000000\n",
      "1247      0.000000  179.761281 -75.590985\n",
      "1248     70.374329   10.228143   7.590815\n",
      "5249    105.296901   14.306612 -33.038256\n",
      "3247      3.512780   72.392309   0.000000\n",
      "8349     44.436133   36.137996  -5.716065\n",
      "7347      0.000000   71.771985   0.000000\n",
      "0149    -11.282595   41.397757  39.480932\n",
      "6348      0.000000   65.971201   0.000000\n",
      "8348     97.558270   14.765537 -48.856493\n",
      "\n",
      "\n",
      "\n",
      "\n",
      "\n",
      "Training episode 30\n"
     ]
    }
   ],
   "source": [
    "%matplotlib inline\n",
    "%run sim"
   ]
  },
  {
   "cell_type": "code",
   "execution_count": null,
   "metadata": {
    "collapsed": true
   },
   "outputs": [],
   "source": []
  }
 ],
 "metadata": {
  "kernelspec": {
   "display_name": "nlp_ml",
   "language": "python",
   "name": "nlp_ml"
  },
  "language_info": {
   "codemirror_mode": {
    "name": "ipython",
    "version": 3
   },
   "file_extension": ".py",
   "mimetype": "text/x-python",
   "name": "python",
   "nbconvert_exporter": "python",
   "pygments_lexer": "ipython3",
   "version": "3.7.6"
  }
 },
 "nbformat": 4,
 "nbformat_minor": 4
}
