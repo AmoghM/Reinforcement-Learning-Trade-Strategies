{
 "cells": [
  {
   "cell_type": "markdown",
   "metadata": {},
   "source": [
    "# Q-Learning \n",
    "\n",
    "**Problem Description**   \n",
    "You will work towards implementing and evaluating the Q-learning algorithm on a simple domain. Q-learning is a fundamental RL algorithm and has been successfully used to solve a variety of decision-making problems. For this homework,you will have to think carefully about algorithm implementation, specially exploration parameters.   \n",
    "\n",
    "The domain you will be tackling is called Taxi. ([Dietterich 2000](https://www.jair.org/media/639/live-639-1834-jair.pdf)). It is a discrete MDP which has been used for RL research in the past. There are 4 locations (labeled by different letters) and your job is to pick up the passenger at one location and drop them off in another. You receive +20 points for a successful dropoff, and lose 1 point for every timestep it takes. There is also a 10 point penalty for illegal pick-up and drop-off actions. \n"
   ]
  },
  {
   "cell_type": "markdown",
   "metadata": {},
   "source": [
    "Implement a basic version of the Q-learning algorithm. The agent should explore the MDP, collect data to the learn the optimal policy and the optimal Q-value function. (Be mindful of how you handle terminal states, typically if $S_t$ is a terminal state, $V(S_t+1) = 0$). Use $𝛾 = 0.90$. Also, you will see how Epsilon-Greedy strategy can find the optimal policy despite of finding sub-optimal q-values. Because we are looking for optimal q-values, you will have to try different exploration strategies.\n",
    "\n",
    "The Q-Learning Algorithm:  \n",
    "$$ \\text{Initialize Q} \\rightarrow \\text{Choose action} \\rightarrow \\text{Perform action} \\rightarrow \\text{Measure Reward} \\rightarrow \\text{Update Q} $$\n",
    "The Q-Learning Update:  \n",
    "$$ Q(S_t, A_t) \\leftarrow Q(S_t, A_t) + \\alpha [R_{t +1} + \\gamma \\, \\text{max}_a \\, Q(S_{t+1}, a) - Q(S_t, A_t)] $$\n"
   ]
  },
  {
   "cell_type": "code",
   "execution_count": 254,
   "metadata": {
    "collapsed": true
   },
   "outputs": [],
   "source": [
    "import numpy as np\n",
    "import pandas as pd\n",
    "import datetime as dt"
   ]
  },
  {
   "cell_type": "code",
   "execution_count": 255,
   "metadata": {
    "collapsed": true
   },
   "outputs": [],
   "source": [
    "def read_stock(path=\"AAPL.csv\"):\n",
    "    df = pd.read_csv(path)\n",
    "    df.index = df.Date\n",
    "    prices = df.iloc[:,-1]\n",
    "    returns = pd.Series(prices.values[:-1]-prices.values[1:], index=prices.index[:-1])\n",
    "    return prices, returns\n",
    "\n",
    "def calc_stats(port_val):\n",
    "    # Get portfolio statistics (note: std_daily_ret = volatility)\n",
    "\n",
    "    dr = (port_val[1:] / port_val[:-1].values) - 1  # Ignore first day\n",
    "    current_return = dr.values[-1]\n",
    "    cr = (port_val[-1] / port_val[0]) - 1           # Ratio of value on last day to first day\n",
    "    addr = dr.mean()\n",
    "    sddr = dr.std()\n",
    "    sr = calc_sharpe_ratio(dr, rfr=0.0, freq=252)             # Calculate Sharpe Ratio\n",
    "    return current_return, addr, sddr, sr\n",
    "\n",
    "\n",
    "def calc_sharpe_ratio(rp, rfr, freq):\n",
    "    \"\"\"\n",
    "    Caclulate Sharpe Ratio\n",
    "    :param rp: Portfolio Return Values\n",
    "    :param rfr: Risk Free Return\n",
    "    :param freq: Frequency Data was sampled at\n",
    "    :return: sharpe ratio\n",
    "    \"\"\"\n",
    "    # if rfr != 0:\n",
    "    #     rfr = np.power((1.0 + rfr), (1.0/freq))\n",
    "    s = (rp - rfr).mean()/rp.std()\n",
    "    s_ann = np.sqrt(freq) * s\n",
    "    return s_ann\n",
    "\n",
    "def calc_state(date):\n",
    "    sr_raw = calc_stats(prices.loc[:date])[3]\n",
    "    if sr_raw > 0:\n",
    "        sr = 'positive' \n",
    "    elif sr_raw < 0:\n",
    "        sr = 'negative'\n",
    "    else:\n",
    "        sr = 'zero'\n",
    "    state = (sr)\n",
    "    return(state)"
   ]
  },
  {
   "cell_type": "code",
   "execution_count": 256,
   "metadata": {
    "collapsed": true
   },
   "outputs": [],
   "source": [
    "class QLearner:\n",
    "    \n",
    "    def __init__(self, epsilon=0.2, epsilon_decay=0.9, alpha=0.2, gamma=0.9, actions = [\"BUY\", \"SELL\", \"HOLD\"],window=1):\n",
    "        \"\"\"\n",
    "            epsilon        : exploration rate\n",
    "            epsilon_decay  : decay factor for epsilon\n",
    "            alpha          : learning rate\n",
    "            gamma          : discount factor\n",
    "            env            : environment agent will be used on\n",
    "        \"\"\"\n",
    "        self.q = {}                                                          # Q values {(state, action) -> value}\n",
    "        self.policy = {}                                                     # Policy   {state -> action}\n",
    "        \n",
    "        self.epsilon = epsilon\n",
    "        self.epsilon_decay = epsilon_decay\n",
    "        self.alpha = alpha\n",
    "        self.gamma = gamma\n",
    "        self.actions = actions\n",
    "        self.window = window\n",
    "        \n",
    "    def get_q(self, state, action):\n",
    "        \"\"\"\n",
    "            Retrieve Q-Value for a <state,action> pair\n",
    "        \"\"\"\n",
    "        sa_pair = (state, action)\n",
    "        if not sa_pair in self.q:                                             # New State, initialize Q-value to 0\n",
    "            self.q[sa_pair] = 0\n",
    "        return self.q[sa_pair]\n",
    "\n",
    "    \n",
    "    def get_action(self, s):\n",
    "        \"\"\"\n",
    "            Given a state, return action to be taken\n",
    "            Uses epsilon-greedy approach to balance exploration-exploitation\n",
    "            Action:\n",
    "              argmax_a Q(a)      with probability 1−ε\n",
    "              random action      with probability ε\n",
    "        \"\"\"\n",
    "        if not s in self.policy:                                              # Initialize randomly\n",
    "            self.policy[s] = self.actions[np.random.randint(0, len(self.actions))]\n",
    "            \n",
    "        if np.random.random() <= self.epsilon:                                # Take random action\n",
    "            self.epsilon = self.epsilon * self.epsilon_decay                  # Decay epsilon\n",
    "            return self.actions[np.random.randint(0, len(self.actions))]\n",
    "        else:                                                                 # Take optimal action\n",
    "            return self.policy[s]\n",
    "             \n",
    "        \n",
    "    def update(self, s_t, a, s_tp1, r):\n",
    "        \"\"\"\n",
    "            Perform Q-Learning update, update optimal policy\n",
    "        \"\"\"\n",
    "        q_s_a = self.get_q(s_t, a)                                            # Immediate Reward\n",
    "        \n",
    "        future_q = [self.get_q(s_tp1, a) for a in self.actions]               # Q-Values for S_t+1\n",
    "        disc_future_r = self.gamma * max(future_q)                            # Discounted Future Reward\n",
    "        \n",
    "        self.q[(s_t, a)] = q_s_a + self.alpha * (r + disc_future_r - q_s_a)   # Update Q-Value for S_t\n",
    "        \n",
    "        q_vals = [self.get_q(s_t, a) for a in self.actions]                   # Update policy\n",
    "        self.policy[s_t] = self.actions[q_vals.index(max(q_vals))]            # Argmax, best action for S_t\n",
    "\n",
    "\n",
    "    def train(self, num_episodes):\n",
    "        \"\"\"\n",
    "            Train the Q-Learning agent across multiple episodes \n",
    "        \"\"\"\n",
    "        \n",
    "        window=self.window\n",
    "        self.cum_reward = [0]*num_episodes\n",
    "        self.ch_actions = {}\n",
    "        for itr, ep in enumerate(range(num_episodes)):\n",
    "            if ep % 1 == 0:\n",
    "                print(\"Episode {}\".format(ep))\n",
    "        \n",
    "            for i in range(1,len(prices.index)-window):\n",
    "                state = calc_state(prices.index[i])\n",
    "                date = prices.index[i]\n",
    "                action = self.get_action(state)                               # Choose action\n",
    "                next_state = calc_state(prices.index[i+window])                    # Perform action, record reward and next state\n",
    "                \n",
    "                self.ch_actions[date] = action\n",
    "                \n",
    "                if action == 'BUY':\n",
    "                    reward = calc_stats(prices.iloc[:i+window])[0]\n",
    "                elif action == 'SELL':\n",
    "                    reward = calc_stats(prices.iloc[:i+window])[0]*(-1)\n",
    "                else:\n",
    "                    reward = 0\n",
    "                \n",
    "                self.cum_reward[itr]+=reward\n",
    "                self.update(state, action, next_state, reward)          # Update Q\n",
    "        print(\"\\n\")\n",
    "        self.ac_df = pd.DataFrame(self.ch_actions,index=[0])"
   ]
  },
  {
   "cell_type": "markdown",
   "metadata": {},
   "source": [
    "  Evaluate your agent using the OpenAI gym environment and use it to solve the taxi domain."
   ]
  },
  {
   "cell_type": "code",
   "execution_count": 257,
   "metadata": {
    "collapsed": true
   },
   "outputs": [],
   "source": [
    "prices, returns = read_stock(\"AAPL.csv\")"
   ]
  },
  {
   "cell_type": "code",
   "execution_count": 258,
   "metadata": {},
   "outputs": [
    {
     "name": "stdout",
     "output_type": "stream",
     "text": [
      "Episode 0\n",
      "Episode 1\n",
      "Episode 2\n",
      "Episode 3\n",
      "Episode 4\n",
      "Episode 5\n",
      "Episode 6\n",
      "Episode 7\n",
      "Episode 8\n",
      "Episode 9\n",
      "\n",
      "\n"
     ]
    }
   ],
   "source": [
    "agent = QLearner(epsilon=0.25, epsilon_decay=1.0, alpha=0.8, gamma=0.9,window=1)\n",
    "agent.train(num_episodes=10)         "
   ]
  },
  {
   "cell_type": "code",
   "execution_count": 259,
   "metadata": {},
   "outputs": [
    {
     "data": {
      "text/plain": [
       "{('zero', 'BUY'): 0.058550038021757005,\n",
       " ('negative', 'BUY'): 0.015299118070456096,\n",
       " ('negative', 'SELL'): 0.09386255573337703,\n",
       " ('negative', 'HOLD'): 0.015339939378001252,\n",
       " ('zero', 'SELL'): 0.05041419377733014,\n",
       " ('zero', 'HOLD'): 0.020289423353279594,\n",
       " ('positive', 'BUY'): 0.03603040035721024,\n",
       " ('positive', 'SELL'): 0.02721230565897379,\n",
       " ('positive', 'HOLD'): 0.037303797893240224}"
      ]
     },
     "execution_count": 259,
     "metadata": {},
     "output_type": "execute_result"
    }
   ],
   "source": [
    "agent.q"
   ]
  },
  {
   "cell_type": "code",
   "execution_count": 260,
   "metadata": {},
   "outputs": [
    {
     "data": {
      "text/plain": [
       "{'zero': 'BUY', 'negative': 'SELL', 'positive': 'HOLD'}"
      ]
     },
     "execution_count": 260,
     "metadata": {},
     "output_type": "execute_result"
    }
   ],
   "source": [
    "agent.policy"
   ]
  },
  {
   "cell_type": "code",
   "execution_count": 261,
   "metadata": {},
   "outputs": [
    {
     "data": {
      "text/plain": [
       "[-1.364891376889746,\n",
       " 0.2813910940411901,\n",
       " 2.7281150589710736,\n",
       " -0.14396883183689102,\n",
       " 0.10441249824385868,\n",
       " -1.744144798818894,\n",
       " 0.12070129893746462,\n",
       " -0.6393623309791342,\n",
       " -0.2024468558939927,\n",
       " -0.5079981052353851]"
      ]
     },
     "execution_count": 261,
     "metadata": {},
     "output_type": "execute_result"
    }
   ],
   "source": [
    "agent.cum_reward"
   ]
  },
  {
   "cell_type": "code",
   "execution_count": 262,
   "metadata": {},
   "outputs": [
    {
     "data": {
      "text/html": [
       "<div>\n",
       "<style scoped>\n",
       "    .dataframe tbody tr th:only-of-type {\n",
       "        vertical-align: middle;\n",
       "    }\n",
       "\n",
       "    .dataframe tbody tr th {\n",
       "        vertical-align: top;\n",
       "    }\n",
       "\n",
       "    .dataframe thead th {\n",
       "        text-align: right;\n",
       "    }\n",
       "</style>\n",
       "<table border=\"1\" class=\"dataframe\">\n",
       "  <thead>\n",
       "    <tr style=\"text-align: right;\">\n",
       "      <th></th>\n",
       "      <th>0</th>\n",
       "    </tr>\n",
       "  </thead>\n",
       "  <tbody>\n",
       "    <tr>\n",
       "      <th>2000-02-02</th>\n",
       "      <td>-1</td>\n",
       "    </tr>\n",
       "    <tr>\n",
       "      <th>2000-02-03</th>\n",
       "      <td>0</td>\n",
       "    </tr>\n",
       "    <tr>\n",
       "      <th>2000-02-04</th>\n",
       "      <td>-1</td>\n",
       "    </tr>\n",
       "    <tr>\n",
       "      <th>2000-02-07</th>\n",
       "      <td>-2</td>\n",
       "    </tr>\n",
       "    <tr>\n",
       "      <th>2000-02-08</th>\n",
       "      <td>-3</td>\n",
       "    </tr>\n",
       "    <tr>\n",
       "      <th>...</th>\n",
       "      <td>...</td>\n",
       "    </tr>\n",
       "    <tr>\n",
       "      <th>2012-09-05</th>\n",
       "      <td>-180</td>\n",
       "    </tr>\n",
       "    <tr>\n",
       "      <th>2012-09-06</th>\n",
       "      <td>-180</td>\n",
       "    </tr>\n",
       "    <tr>\n",
       "      <th>2012-09-07</th>\n",
       "      <td>-180</td>\n",
       "    </tr>\n",
       "    <tr>\n",
       "      <th>2012-09-10</th>\n",
       "      <td>-180</td>\n",
       "    </tr>\n",
       "    <tr>\n",
       "      <th>2012-09-11</th>\n",
       "      <td>-180</td>\n",
       "    </tr>\n",
       "  </tbody>\n",
       "</table>\n",
       "<p>3173 rows × 1 columns</p>\n",
       "</div>"
      ],
      "text/plain": [
       "              0\n",
       "2000-02-02   -1\n",
       "2000-02-03    0\n",
       "2000-02-04   -1\n",
       "2000-02-07   -2\n",
       "2000-02-08   -3\n",
       "...         ...\n",
       "2012-09-05 -180\n",
       "2012-09-06 -180\n",
       "2012-09-07 -180\n",
       "2012-09-10 -180\n",
       "2012-09-11 -180\n",
       "\n",
       "[3173 rows x 1 columns]"
      ]
     },
     "execution_count": 262,
     "metadata": {},
     "output_type": "execute_result"
    }
   ],
   "source": [
    "import matplotlib.pyplot as plt\n",
    "decisions = agent.ac_df.transpose().replace('BUY',1).replace('SELL',-1).replace('HOLD',0).astype('int').sort_index().cumsum()\n",
    "decisions"
   ]
  },
  {
   "cell_type": "code",
   "execution_count": 263,
   "metadata": {},
   "outputs": [
    {
     "data": {
      "image/png": "[encoded data removed]",
      "text/plain": [
       "<Figure size 432x288 with 1 Axes>"
      ]
     },
     "metadata": {
      "needs_background": "light"
     },
     "output_type": "display_data"
    }
   ],
   "source": [
    "plt.plot(decisions.values[:,0],c='orange')\n",
    "plt.plot(prices.sort_index().values)\n",
    "plt.show()"
   ]
  },
  {
   "cell_type": "code",
   "execution_count": 264,
   "metadata": {},
   "outputs": [
    {
     "data": {
      "text/plain": [
       "HOLD    1387\n",
       "SELL     983\n",
       "BUY      803\n",
       "Name: 0, dtype: int64"
      ]
     },
     "execution_count": 264,
     "metadata": {},
     "output_type": "execute_result"
    }
   ],
   "source": [
    "agent.ac_df.transpose().iloc[:,0].value_counts()"
   ]
  },
  {
   "cell_type": "code",
   "execution_count": null,
   "metadata": {
    "collapsed": true
   },
   "outputs": [],
   "source": []
  },
  {
   "cell_type": "code",
   "execution_count": 265,
   "metadata": {},
   "outputs": [
    {
     "data": {
      "text/plain": [
       "Date\n",
       "2000-02-01     24.96\n",
       "2000-02-02     24.60\n",
       "2000-02-03     25.72\n",
       "2000-02-04     26.88\n",
       "2000-02-07     28.39\n",
       "               ...  \n",
       "2012-09-06    676.27\n",
       "2012-09-07    680.44\n",
       "2012-09-10    662.74\n",
       "2012-09-11    660.59\n",
       "2012-09-12    669.79\n",
       "Name: Adj Close, Length: 3175, dtype: float64"
      ]
     },
     "execution_count": 265,
     "metadata": {},
     "output_type": "execute_result"
    }
   ],
   "source": [
    "prices.sort_index()"
   ]
  }
 ],
 "metadata": {
  "kernelspec": {
   "display_name": "nlp_ml",
   "language": "python",
   "name": "nlp_ml"
  },
  "language_info": {
   "codemirror_mode": {
    "name": "ipython",
    "version": 3
   },
   "file_extension": ".py",
   "mimetype": "text/x-python",
   "name": "python",
   "nbconvert_exporter": "python",
   "pygments_lexer": "ipython3",
   "version": "3.7.6"
  }
 },
 "nbformat": 4,
 "nbformat_minor": 2
}
