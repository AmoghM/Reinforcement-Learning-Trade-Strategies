{
 "cells": [
  {
   "cell_type": "code",
   "execution_count": 286,
   "metadata": {},
   "outputs": [],
   "source": [
    "import pandas as pd\n",
    "import numpy as np\n",
    "import datetime as dt\n",
    "import matplotlib.pyplot as plt\n",
    "import statsmodels.api as sm\n",
    "from sklearn.preprocessing import normalize"
   ]
  },
  {
   "cell_type": "markdown",
   "metadata": {},
   "source": [
    "**Steps followed**\n",
    "1. import the daily stock data (adj close) and form a matrix. Row = Days, Cols = Stocks/cash\n",
    "2. define dummy policy. \n",
    "        a) random daily weights\n",
    "        b) equal weighting\n",
    "        c) rule based weighting buy if stock last time step, sell if not\n",
    "        d) ML\n",
    "3. use policy to determine daily policy weights. Rows = Days, Cols = Stock/Cash\n",
    "4. Element wise multiplication #1 and #3.\n",
    "5. Calculate the return over time across stocks. => Sum each row.\n",
    "6. Compute the cumulative product. np.cumprod()\n",
    "7. "
   ]
  },
  {
   "cell_type": "code",
   "execution_count": 287,
   "metadata": {},
   "outputs": [],
   "source": [
    "def read_stock(path=\"../resources/ML4T/ML4T_assignments/data/\", stocks=[\"AAPL.csv\"]):\n",
    "    i = 0\n",
    "    for stock in stocks:\n",
    "        stock_path = path+stock\n",
    "        if i == 0:\n",
    "            df = pd.read_csv(stock_path)[['Date','Adj Close']].rename(columns={'Adj Close':stock.strip('.csv')})\n",
    "        else:\n",
    "            df = df.merge(pd.read_csv(stock_path)[['Date','Adj Close']].rename(columns={'Adj Close':stock.strip('.csv')}),on='Date')\n",
    "        i +=1\n",
    "    df.index = pd.to_datetime(df.Date)\n",
    "    df = df.drop(columns='Date').sort_index()\n",
    "    df = df/df.iloc[0]\n",
    "    return df"
   ]
  },
  {
   "cell_type": "code",
   "execution_count": 288,
   "metadata": {},
   "outputs": [
    {
     "data": {
      "text/html": [
       "<div>\n",
       "<style scoped>\n",
       "    .dataframe tbody tr th:only-of-type {\n",
       "        vertical-align: middle;\n",
       "    }\n",
       "\n",
       "    .dataframe tbody tr th {\n",
       "        vertical-align: top;\n",
       "    }\n",
       "\n",
       "    .dataframe thead th {\n",
       "        text-align: right;\n",
       "    }\n",
       "</style>\n",
       "<table border=\"1\" class=\"dataframe\">\n",
       "  <thead>\n",
       "    <tr style=\"text-align: right;\">\n",
       "      <th></th>\n",
       "      <th>AAPL</th>\n",
       "      <th>GOOG</th>\n",
       "    </tr>\n",
       "    <tr>\n",
       "      <th>Date</th>\n",
       "      <th></th>\n",
       "      <th></th>\n",
       "    </tr>\n",
       "  </thead>\n",
       "  <tbody>\n",
       "    <tr>\n",
       "      <th>2004-08-19</th>\n",
       "      <td>1.000000</td>\n",
       "      <td>1.000000</td>\n",
       "    </tr>\n",
       "    <tr>\n",
       "      <th>2004-08-20</th>\n",
       "      <td>1.002616</td>\n",
       "      <td>1.079430</td>\n",
       "    </tr>\n",
       "    <tr>\n",
       "      <th>2004-08-23</th>\n",
       "      <td>1.011772</td>\n",
       "      <td>1.090293</td>\n",
       "    </tr>\n",
       "    <tr>\n",
       "      <th>2004-08-24</th>\n",
       "      <td>1.040549</td>\n",
       "      <td>1.045147</td>\n",
       "    </tr>\n",
       "    <tr>\n",
       "      <th>2004-08-25</th>\n",
       "      <td>1.075867</td>\n",
       "      <td>1.056408</td>\n",
       "    </tr>\n",
       "  </tbody>\n",
       "</table>\n",
       "</div>"
      ],
      "text/plain": [
       "                AAPL      GOOG\n",
       "Date                          \n",
       "2004-08-19  1.000000  1.000000\n",
       "2004-08-20  1.002616  1.079430\n",
       "2004-08-23  1.011772  1.090293\n",
       "2004-08-24  1.040549  1.045147\n",
       "2004-08-25  1.075867  1.056408"
      ]
     },
     "execution_count": 288,
     "metadata": {},
     "output_type": "execute_result"
    }
   ],
   "source": [
    "res = read_stock(stocks=[\"AAPL.csv\",\"GOOG.csv\"])\n",
    "res.head()"
   ]
  },
  {
   "cell_type": "code",
   "execution_count": 289,
   "metadata": {},
   "outputs": [],
   "source": [
    "def equal_weight(stock_table):\n",
    "    return 1/stock_table.shape[1]*np.ones(stock_table.shape)\n",
    "\n",
    "def random_weight(stock_table):\n",
    "    return np.random.dirichlet(np.random.uniform(size=stock_table.shape[1]),stock_table.shape[0])"
   ]
  },
  {
   "cell_type": "code",
   "execution_count": 290,
   "metadata": {},
   "outputs": [],
   "source": [
    "def ols(stock_table):\n",
    "    vals = np.ones(stock_table.shape)\n",
    "    k = 0\n",
    "    for col in stock_table:\n",
    "        st = stock_table[col].values / stock_table[col].values[0]\n",
    "        for i in range(len(st)):\n",
    "            if i in [0,1,2,3]: # adjust, had it this way because of singularity issues\n",
    "                vals[i,k] = 1\n",
    "            else:\n",
    "                st_cur = st[max(1,i-14):i] - st[max(0,i-15):i-1] # maybe adjust so last 14 days?\n",
    "                np.insert(st_cur,0,np.array([0,0]),axis=0)\n",
    "                x = np.arange(len(st_cur)-1)\n",
    "                vals[i,k] = sm.OLS(st_cur[:-1],x).fit().predict(len(st_cur))\n",
    "        k+=1\n",
    "        final_vals = normalize(np.apply_along_axis(lambda x: np.abs(x) / np.abs(np.max(x)),1,vals),axis=1,norm='l1') #https://community.jmp.com/t5/Discussions/How-do-I-calculate-a-ratio-with-negative-numbers/td-p/43328\n",
    "    return final_vals\n",
    "    \n",
    "    '''for col in stock_table:\n",
    "        Y = stock_table[col]\n",
    "        X = np.arange(len(Y))\n",
    "        for x,y in zip(X,Y):\n",
    "            model = sm.OLS([y], [x])\n",
    "            results = model.fit()\n",
    "        print(results.summary())\n",
    "    '''"
   ]
  },
  {
   "cell_type": "code",
   "execution_count": 291,
   "metadata": {},
   "outputs": [
    {
     "data": {
      "text/plain": [
       "array([[0.5       , 0.5       ],\n",
       "       [0.5       , 0.5       ],\n",
       "       [0.5       , 0.5       ],\n",
       "       [0.45737244, 0.54262756],\n",
       "       [0.45648128, 0.54351872],\n",
       "       [0.79091429, 0.20908571],\n",
       "       [0.92652578, 0.07347422],\n",
       "       [0.85311162, 0.14688838],\n",
       "       [0.4867928 , 0.5132072 ],\n",
       "       [0.57051963, 0.42948037],\n",
       "       [0.61845694, 0.38154306],\n",
       "       [0.66570166, 0.33429834],\n",
       "       [0.52259143, 0.47740857],\n",
       "       [0.69642143, 0.30357857],\n",
       "       [0.80776805, 0.19223195],\n",
       "       [0.75585172, 0.24414828],\n",
       "       [0.61979572, 0.38020428],\n",
       "       [0.27359776, 0.72640224],\n",
       "       [0.06991504, 0.93008496],\n",
       "       [0.06545643, 0.93454357],\n",
       "       [0.23145009, 0.76854991],\n",
       "       [0.28418995, 0.71581005],\n",
       "       [0.31691993, 0.68308007],\n",
       "       [0.39676618, 0.60323382],\n",
       "       [0.20507897, 0.79492103],\n",
       "       [0.23465535, 0.76534465],\n",
       "       [0.26820489, 0.73179511],\n",
       "       [0.42015703, 0.57984297],\n",
       "       [0.27364544, 0.72635456],\n",
       "       [0.29526814, 0.70473186],\n",
       "       [0.33061311, 0.66938689],\n",
       "       [0.25330957, 0.74669043],\n",
       "       [0.21645266, 0.78354734],\n",
       "       [0.24954003, 0.75045997],\n",
       "       [0.42195227, 0.57804773],\n",
       "       [0.26636486, 0.73363514],\n",
       "       [0.18226964, 0.81773036],\n",
       "       [0.03873495, 0.96126505],\n",
       "       [0.21214466, 0.78785534],\n",
       "       [0.27920655, 0.72079345],\n",
       "       [0.73710564, 0.26289436],\n",
       "       [0.71223526, 0.28776474],\n",
       "       [0.678222  , 0.321778  ],\n",
       "       [0.70496928, 0.29503072],\n",
       "       [0.99122239, 0.00877761],\n",
       "       [0.67921711, 0.32078289],\n",
       "       [0.3146886 , 0.6853114 ],\n",
       "       [0.22941663, 0.77058337],\n",
       "       [0.26523793, 0.73476207],\n",
       "       [0.33776399, 0.66223601],\n",
       "       [0.35404185, 0.64595815],\n",
       "       [0.36723019, 0.63276981],\n",
       "       [0.30969394, 0.69030606],\n",
       "       [0.37815176, 0.62184824],\n",
       "       [0.51869802, 0.48130198],\n",
       "       [0.66591886, 0.33408114],\n",
       "       [0.53282917, 0.46717083],\n",
       "       [0.48298257, 0.51701743],\n",
       "       [0.30211769, 0.69788231],\n",
       "       [0.30946934, 0.69053066],\n",
       "       [0.98662618, 0.01337382],\n",
       "       [0.83170617, 0.16829383],\n",
       "       [0.65562413, 0.34437587],\n",
       "       [0.1682948 , 0.8317052 ],\n",
       "       [0.12156586, 0.87843414],\n",
       "       [0.15848818, 0.84151182],\n",
       "       [0.10991084, 0.89008916],\n",
       "       [0.68940038, 0.31059962],\n",
       "       [0.77688828, 0.22311172],\n",
       "       [0.93053416, 0.06946584],\n",
       "       [0.7977052 , 0.2022948 ],\n",
       "       [0.83013895, 0.16986105],\n",
       "       [0.79284295, 0.20715705],\n",
       "       [0.83697325, 0.16302675],\n",
       "       [0.75326335, 0.24673665],\n",
       "       [0.35022821, 0.64977179],\n",
       "       [0.89166877, 0.10833123],\n",
       "       [0.22597773, 0.77402227],\n",
       "       [0.25443438, 0.74556562],\n",
       "       [0.44508517, 0.55491483],\n",
       "       [0.22371597, 0.77628403],\n",
       "       [0.07588725, 0.92411275],\n",
       "       [0.17295621, 0.82704379],\n",
       "       [0.04552739, 0.95447261],\n",
       "       [0.93945092, 0.06054908],\n",
       "       [0.06372517, 0.93627483],\n",
       "       [0.40465633, 0.59534367],\n",
       "       [0.24923074, 0.75076926],\n",
       "       [0.20850265, 0.79149735],\n",
       "       [0.1011088 , 0.8988912 ],\n",
       "       [0.2456314 , 0.7543686 ],\n",
       "       [0.07138353, 0.92861647],\n",
       "       [0.01295095, 0.98704905],\n",
       "       [0.08238564, 0.91761436],\n",
       "       [0.00649387, 0.99350613],\n",
       "       [0.1807879 , 0.8192121 ],\n",
       "       [0.12664493, 0.87335507],\n",
       "       [0.38836117, 0.61163883],\n",
       "       [0.39530458, 0.60469542]])"
      ]
     },
     "execution_count": 291,
     "metadata": {},
     "output_type": "execute_result"
    }
   ],
   "source": [
    "ols(res)[1:100,]"
   ]
  },
  {
   "cell_type": "code",
   "execution_count": 292,
   "metadata": {},
   "outputs": [],
   "source": [
    "def enact(stock_table,policy):\n",
    "    st = stock_table\n",
    "    p = policy(stock_table)\n",
    "    v = np.multiply(st,p).sum(axis=1)\n",
    "    ret = v[1:]/v[:-1].values\n",
    "    cp = np.cumprod(ret)\n",
    "    return cp"
   ]
  },
  {
   "cell_type": "code",
   "execution_count": 293,
   "metadata": {},
   "outputs": [],
   "source": [
    "def plot_returns(stocks=[\"AAPL.csv\",\"GOOG.csv\"], policies=[random_weight,equal_weight,ols]):\n",
    "    stock_table = read_stock(stocks=[\"AAPL.csv\",\"GOOG.csv\"])\n",
    "    for policy in policies:\n",
    "        cp = enact(stock_table,policy)\n",
    "        print(cp)\n",
    "        plt.plot(cp.values)\n",
    "    plt.show()"
   ]
  },
  {
   "cell_type": "code",
   "execution_count": 294,
   "metadata": {},
   "outputs": [
    {
     "name": "stdout",
     "output_type": "stream",
     "text": [
      "Date\n",
      "2004-08-20     1.002616\n",
      "2004-08-23     1.088977\n",
      "2004-08-24     1.040549\n",
      "2004-08-25     1.071539\n",
      "2004-08-26     1.125165\n",
      "                ...    \n",
      "2012-09-06    44.217046\n",
      "2012-09-07    16.786857\n",
      "2012-09-10     8.506589\n",
      "2012-09-11    40.658970\n",
      "2012-09-12    43.805681\n",
      "Length: 2032, dtype: float64\n",
      "Date\n",
      "2004-08-20     1.041023\n",
      "2004-08-23     1.051033\n",
      "2004-08-24     1.042848\n",
      "2004-08-25     1.066137\n",
      "2004-08-26     1.102143\n",
      "                ...    \n",
      "2012-09-06    25.599931\n",
      "2012-09-07    25.769931\n",
      "2012-09-10    25.164312\n",
      "2012-09-11    25.051250\n",
      "2012-09-12    25.345573\n",
      "Length: 2032, dtype: float64\n",
      "Date\n",
      "2004-08-20     1.041023\n",
      "2004-08-23     1.051033\n",
      "2004-08-24     1.042848\n",
      "2004-08-25     1.065308\n",
      "2004-08-26     1.099819\n",
      "                ...    \n",
      "2012-09-06    42.611389\n",
      "2012-09-07    41.256796\n",
      "2012-09-10    33.328322\n",
      "2012-09-11    34.059181\n",
      "2012-09-12    34.697162\n",
      "Length: 2032, dtype: float64\n"
     ]
    },
    {
     "data": {
      "image/png": "[encoded data removed]",
      "text/plain": [
       "<Figure size 432x288 with 1 Axes>"
      ]
     },
     "metadata": {
      "needs_background": "light"
     },
     "output_type": "display_data"
    }
   ],
   "source": [
    "plot_returns()"
   ]
  }
 ],
 "metadata": {
  "kernelspec": {
   "display_name": "Python 3",
   "language": "python",
   "name": "python3"
  },
  "language_info": {
   "codemirror_mode": {
    "name": "ipython",
    "version": 3
   },
   "file_extension": ".py",
   "mimetype": "text/x-python",
   "name": "python",
   "nbconvert_exporter": "python",
   "pygments_lexer": "ipython3",
   "version": "3.7.6"
  }
 },
 "nbformat": 4,
 "nbformat_minor": 4
}
